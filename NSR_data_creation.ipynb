{
 "cells": [
  {
   "cell_type": "code",
   "execution_count": 21,
   "metadata": {
    "collapsed": true
   },
   "outputs": [],
   "source": [
    "import json\n",
    "import os"
   ]
  },
  {
   "cell_type": "code",
   "execution_count": 24,
   "metadata": {
    "collapsed": true
   },
   "outputs": [],
   "source": [
    "def read_json(hm_files):\n",
    "    hm_json = []\n",
    "    for hm_fl in hm_files:\n",
    "        hm_fl_opn = open(hm_fl, \"r\")\n",
    "        for line in hm_fl_opn:\n",
    "            hm_json.append(json.loads(line, encoding='utf-8'))\n",
    "        hm_fl_opn.close()\n",
    "    return hm_json\n",
    "def dump_json(hm_json, hm_file):\n",
    "    with open(hm_file, \"w\") as f_dump:\n",
    "        for artl in hm_json:\n",
    "            print >> f_dump, json.dumps(artl)"
   ]
  },
  {
   "cell_type": "code",
   "execution_count": 36,
   "metadata": {
    "collapsed": true
   },
   "outputs": [],
   "source": [
    "hm_input = [\"data/US/raw_HealthMap/basis_enriched_US_2013.json\"]\n",
    "IN_2013 = read_json(hm_input)\n",
    "IN_2013_data = []\n",
    "for artl in IN_2013:\n",
    "    for key_elm in ['dragnet_content', 'goose_content', 'embersId', 'parentId', 'comment', \n",
    "                    'content', 'parser_extract', 'descr', 'BasisEnrichment']:\n",
    "        artl.pop(key_elm, None)\n",
    "    artl[\"textual_content\"] = artl[\"unique_content\"]\n",
    "    artl.pop(\"unique_content\", None)\n",
    "    IN_2013_data.append(artl)\n",
    "os.system(\"rm -rf \" + hm_input[0])\n",
    "dump_json(IN_2013_data, hm_input[0])"
   ]
  },
  {
   "cell_type": "code",
   "execution_count": null,
   "metadata": {
    "collapsed": true
   },
   "outputs": [],
   "source": []
  }
 ],
 "metadata": {
  "kernelspec": {
   "display_name": "Python 2",
   "language": "python",
   "name": "python2"
  },
  "language_info": {
   "codemirror_mode": {
    "name": "ipython",
    "version": 2
   },
   "file_extension": ".py",
   "mimetype": "text/x-python",
   "name": "python",
   "nbconvert_exporter": "python",
   "pygments_lexer": "ipython2",
   "version": "2.7.3"
  }
 },
 "nbformat": 4,
 "nbformat_minor": 0
}
